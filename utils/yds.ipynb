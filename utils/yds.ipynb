{
 "cells": [
  {
   "cell_type": "code",
   "execution_count": 4,
   "metadata": {
    "cellId": "n740n5biyqfnknuxfo1lgn"
   },
   "outputs": [
    {
     "data": {
      "text/plain": [
       "['project-58d.ipynb', 'summarization_nn', '.yds_jupyter', '.ipynb_checkpoints']"
      ]
     },
     "execution_count": 4,
     "metadata": {},
     "output_type": "execute_result"
    }
   ],
   "source": [
    "import os\n",
    "os.listdir()"
   ]
  },
  {
   "cell_type": "code",
   "execution_count": 5,
   "metadata": {
    "cellId": "4nh590g0n7he3j8s187y75"
   },
   "outputs": [],
   "source": [
    "os.chdir('summarization_nn/')"
   ]
  },
  {
   "cell_type": "code",
   "execution_count": 10,
   "metadata": {
    "cellId": "rbunpt1s5pj4vnve4ciq1"
   },
   "outputs": [
    {
     "data": {
      "text/plain": [
       "['rubart',\n",
       " 'setup.sh',\n",
       " 'utils',\n",
       " 'train.sh',\n",
       " 'data',\n",
       " 'bert_sum_ext',\n",
       " '.git',\n",
       " 'summarunner',\n",
       " '.dvcignore',\n",
       " 'requirements.txt',\n",
       " '.gitignore',\n",
       " 'scraping',\n",
       " '.dvc']"
      ]
     },
     "execution_count": 10,
     "metadata": {},
     "output_type": "execute_result"
    }
   ],
   "source": [
    "import os\n",
    "os.listdir()"
   ]
  },
  {
   "cell_type": "code",
   "execution_count": 19,
   "metadata": {
    "cellId": "2g90szwprafq2f7yzcmqh"
   },
   "outputs": [
    {
     "name": "stdout",
     "output_type": "stream",
     "text": [
      "Collecting rouge\n",
      "  Using cached rouge-1.0.0-py3-none-any.whl (14 kB)\n",
      "Collecting razdel\n",
      "  Downloading razdel-0.5.0-py3-none-any.whl (21 kB)\n",
      "Collecting six==1.15.0\n",
      "  Using cached six-1.15.0-py2.py3-none-any.whl (10 kB)\n",
      "Installing collected packages: six, rouge, razdel\n",
      "\u001b[31mERROR: After October 2020 you may experience errors when installing or updating packages. This is because pip will change the way that it resolves dependency conflicts.\n",
      "\n",
      "We recommend you use --use-feature=2020-resolver to test your packages with the new resolver before it becomes the default.\n",
      "\n",
      "pydrive2 1.6.2 requires google-api-python-client>=1.12.1, but you'll have google-api-python-client 1.8.0 which is incompatible.\n",
      "torchvision 0.5.0 requires torch==1.4.0, but you'll have torch 1.6.0 which is incompatible.\n",
      "tensorflow-metadata 0.23.0 requires absl-py<0.9,>=0.7, but you'll have absl-py 0.10.0 which is incompatible.\n",
      "dvc 1.4.0 requires networkx<2.5,>=2.1, but you'll have networkx 2.5 which is incompatible.\u001b[0m\n",
      "Successfully installed razdel-0.5.0 rouge-1.0.0 six-1.15.0\n",
      "\u001b[33mWARNING: Target directory /home/jupyter/work/pyenv/six.py already exists. Specify --upgrade to force replacement.\u001b[0m\n",
      "\u001b[33mWARNING: Target directory /home/jupyter/work/pyenv/six-1.15.0.dist-info already exists. Specify --upgrade to force replacement.\u001b[0m\n",
      "\u001b[33mWARNING: Target directory /home/jupyter/work/pyenv/rouge-1.0.0.dist-info already exists. Specify --upgrade to force replacement.\u001b[0m\n",
      "\u001b[33mWARNING: Target directory /home/jupyter/work/pyenv/rouge already exists. Specify --upgrade to force replacement.\u001b[0m\n",
      "\u001b[33mWARNING: Target directory /home/jupyter/work/pyenv/__pycache__ already exists. Specify --upgrade to force replacement.\u001b[0m\n",
      "\u001b[33mWARNING: Target directory /home/jupyter/work/pyenv/bin already exists. Specify --upgrade to force replacement.\u001b[0m\n",
      "\u001b[33mWARNING: Target directory /home/jupyter/work/pyenv/bin already exists. Specify --upgrade to force replacement.\u001b[0m\n",
      "\u001b[33mWARNING: You are using pip version 20.2.2; however, version 20.2.3 is available.\n",
      "You should consider upgrading via the '/py-env/platform-env/bin/python3 -m pip install --upgrade pip' command.\u001b[0m\n"
     ]
    }
   ],
   "source": [
    "%pip install rouge razdel"
   ]
  },
  {
   "cell_type": "code",
   "execution_count": 20,
   "metadata": {
    "cellId": "9vfg4pweqoaiz2wpmqkna"
   },
   "outputs": [
    {
     "name": "stdout",
     "output_type": "stream",
     "text": [
      "{'seed': 123, 'device': 'cuda', 'batch_size': 6, 'grad_accum_steps': 6, 'num_steps_total': 80000, 'num_steps_checkpoint': 10000, 'num_steps_warmup_e': 20000, 'lr_e': 2e-05, 'num_steps_warmup_d': 10000, 'lr_d': 5e-05, 'wd_e': 0.0, 'wd_d': 0.0, 'num_workers': 8, 'data_path': 'data', 'finetune_bert': 1, 'single_batch': 0, 'pretrained_bert_model_name': 'DeepPavlov/rubert-base-cased-sentence', 'schedule': 1, 'pool': 'avg'}\n"
     ]
    }
   ],
   "source": [
    "train_args = {\n",
    "        'seed': 123,\n",
    "        'device': 'cuda',\n",
    "        'batch_size': 6,\n",
    "        'grad_accum_steps': 6,\n",
    "        'num_steps_total': 80000,\n",
    "        'num_steps_checkpoint': 10000,\n",
    "        'num_steps_warmup_e': 20000,\n",
    "        'lr_e': 2e-5,\n",
    "        'num_steps_warmup_d': 10000,\n",
    "        'lr_d': 5e-5,\n",
    "        'wd_e': 0.0,\n",
    "        'wd_d': 0.0,\n",
    "        'num_workers': 8,\n",
    "        'data_path': 'data',\n",
    "        'finetune_bert': 1,\n",
    "        'single_batch': 0,\n",
    "        # 'pretrained_bert_model_name': 'DeepPavlov/rubert-base-cased',\n",
    "        'pretrained_bert_model_name': 'DeepPavlov/rubert-base-cased-sentence',\n",
    "        'schedule': 1,\n",
    "        'pool': 'avg',\n",
    "    }\n",
    "print(train_args)"
   ]
  },
  {
   "cell_type": "code",
   "execution_count": null,
   "metadata": {
    "cellId": "4ersmioxgn7ei0jzpra4zk"
   },
   "outputs": [
    {
     "name": "stdout",
     "output_type": "stream",
     "text": [
      "/home/jupyter/work/resources/summarization_nn\n",
      "_CudaDeviceProperties(name='Tesla V100-PCIE-32GB', major=7, minor=0, total_memory=32510MB, multi_processor_count=80)\n",
      "Using cuda\n"
     ]
    },
    {
     "name": "stderr",
     "output_type": "stream",
     "text": [
      "  0%|          | 0/9515 [00:00<?, ?it/s]"
     ]
    },
    {
     "name": "stdout",
     "output_type": "stream",
     "text": [
      "Epoch 0\n"
     ]
    },
    {
     "name": "stderr",
     "output_type": "stream",
     "text": [
      "Train loss 0.479 :   0%|          | 5/9515 [00:02<1:08:06,  2.33it/s]/py-env/platform-env/lib/python3.7/site-packages/transformers/optimization.py:155: UserWarning: This overload of add_ is deprecated:\n",
      "\tadd_(Number alpha, Tensor other)\n",
      "Consider using one of the following signatures instead:\n",
      "\tadd_(Tensor other, *, Number alpha) (Triggered internally at  /pytorch/torch/csrc/utils/python_arg_parser.cpp:766.)\n",
      "  exp_avg.mul_(beta1).add_(1.0 - beta1, grad)\n",
      "Train loss 0.485 :   8%|▊         | 802/9515 [03:45<39:36,  3.67it/s]"
     ]
    }
   ],
   "source": [
    "#!L\n",
    "os.chdir('summarization_nn/')\n",
    "print(os.getcwd())\n",
    "from bert_sum_ext.bertsumext_train import *\n",
    "model, train_losses, train_loader, test_loader = train(**train_args)"
   ]
  },
  {
   "cell_type": "code",
   "execution_count": null,
   "metadata": {
    "cellId": "thvv9i6brrnnype1ga48dg"
   },
   "outputs": [],
   "source": []
  },
  {
   "cell_type": "code",
   "execution_count": null,
   "metadata": {
    "cellId": "m9554azt7bd5nnzayqaaq"
   },
   "outputs": [],
   "source": []
  },
  {
   "cell_type": "code",
   "execution_count": null,
   "metadata": {
    "cellId": "ltcmjim72uaaqype9cfuk"
   },
   "outputs": [],
   "source": []
  },
  {
   "cell_type": "code",
   "execution_count": null,
   "metadata": {
    "cellId": "39rj3hm2teshqjgtjys9b5"
   },
   "outputs": [],
   "source": []
  },
  {
   "cell_type": "code",
   "execution_count": null,
   "metadata": {
    "cellId": "sejw205jluz79yyg3f35"
   },
   "outputs": [],
   "source": []
  }
 ],
 "metadata": {
  "kernelspec": {
   "display_name": "Yandex DataSphere Kernel",
   "language": "python",
   "name": "python3"
  },
  "language_info": {
   "codemirror_mode": {
    "name": "ipython",
    "version": 3
   },
   "file_extension": ".py",
   "mimetype": "text/x-python",
   "name": "python",
   "nbconvert_exporter": "python",
   "pygments_lexer": "ipython3",
   "version": "3.7.7"
  },
  "notebookId": "bef30901-e75e-48b7-b5a1-6689edcddbe9"
 },
 "nbformat": 4,
 "nbformat_minor": 4
}
